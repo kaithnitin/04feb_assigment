{
 "cells": [
  {
   "cell_type": "code",
   "execution_count": 1,
   "id": "4113fd2c-0875-4557-a12c-fd4e1c58ecdc",
   "metadata": {},
   "outputs": [],
   "source": [
    "# Q1. Create a python program to sort the given list of tuples based on integer value using a lambda function.\n",
    "# [('Sachin Tendulkar', 34357), ('Ricky Ponting', 27483), ('Jack Kallis', 25534), ('Virat Kohli', 24936)]"
   ]
  },
  {
   "cell_type": "code",
   "execution_count": 20,
   "id": "aba22561-0a32-4e90-98d4-297ef2e5f483",
   "metadata": {},
   "outputs": [
    {
     "name": "stdout",
     "output_type": "stream",
     "text": [
      "sorting the list of tuples on the basis of marks:\n",
      "\n",
      "this is the orignal list:  [('Sachin Tendulkar', 34357), ('Ricky Ponting', 27483), ('Jack Kallis', 25534), ('Virat Kohli', 24936)]\n",
      "this is the sorted list:  [('Virat Kohli', 24936), ('Jack Kallis', 25534), ('Ricky Ponting', 27483), ('Sachin Tendulkar', 34357)]\n"
     ]
    }
   ],
   "source": [
    "print(\"sorting the list of tuples on the basis of marks:\\n\")\n",
    "orignal_list=[('Sachin Tendulkar', 34357), ('Ricky Ponting', 27483), ('Jack Kallis', 25534), ('Virat Kohli', 24936)]\n",
    "print(\"this is the orignal list: \",orignal_list)\n",
    "orignal_list.sort(key= lambda x : x[1]) # X[] put value as per your requirement\n",
    "print(\"this is the sorted list: \",orignal_list)"
   ]
  },
  {
   "cell_type": "code",
   "execution_count": 8,
   "id": "67b375e6-813e-4310-aa4a-d5bb4aa8be88",
   "metadata": {},
   "outputs": [],
   "source": [
    "# Q2. Write a Python Program to find the squares of all the numbers in the given list of integers using lambda and map functions.\n",
    "# [1, 2, 3, 4, 5, 6, 7, 8, 9, 10]"
   ]
  },
  {
   "cell_type": "code",
   "execution_count": 22,
   "id": "70d99bb6-f06f-45ee-9ec7-609d2c3d4700",
   "metadata": {},
   "outputs": [
    {
     "name": "stdout",
     "output_type": "stream",
     "text": [
      "program to square all the no. present in the list\n",
      "list to be squared:  [1, 2, 3, 4, 5, 6, 7, 8, 9, 10]\n",
      "square of the given list:  [1, 4, 9, 16, 25, 36, 49, 64, 81, 100]\n"
     ]
    }
   ],
   "source": [
    "print(\"program to square all the no. present in the list\")\n",
    "l1=[1, 2, 3, 4, 5, 6, 7, 8, 9, 10]\n",
    "print(\"list to be squared: \",l1)\n",
    "squared_list=list(map(lambda x : x**2,l1))\n",
    "print(\"square of the given list: \",squared_list)"
   ]
  },
  {
   "cell_type": "code",
   "execution_count": 23,
   "id": "6cbe0c4e-5db9-45d0-8844-0c34d2a0f23a",
   "metadata": {},
   "outputs": [],
   "source": [
    "#Q3. Write a python program to convert the given list of integers into a tuple of strings. Use map and lambda functions\n",
    "#Given String: [1, 2, 3, 4, 5, 6, 7, 8, 9, 10]\n",
    "#Expected output: ('1', '2', '3', '4', '5', '6', '7', '8', '9', '10')"
   ]
  },
  {
   "cell_type": "code",
   "execution_count": 31,
   "id": "d1751126-9fae-4a7c-83a2-25354ff69cdd",
   "metadata": {},
   "outputs": [
    {
     "name": "stdout",
     "output_type": "stream",
     "text": [
      "convert list of integer into a tuple of string:\n",
      "list to be converted:  [1, 2, 3, 4, 5, 6, 7, 8, 9, 10]\n",
      "new list with 'int'-->'str':  ('1', '2', '3', '4', '5', '6', '7', '8', '9', '10')\n"
     ]
    }
   ],
   "source": [
    "print(\"convert list of integer into a tuple of string:\")\n",
    "orignal_list= [1, 2, 3, 4, 5, 6, 7, 8, 9, 10]\n",
    "print(\"list to be converted: \",orignal_list)\n",
    "new_list=tuple(map(lambda x : str(x),orignal_list))\n",
    "print(\"new list with 'int'-->'str': \",new_list)"
   ]
  },
  {
   "cell_type": "code",
   "execution_count": 32,
   "id": "1b79bf51-3643-41fb-9655-6d3132af52c0",
   "metadata": {},
   "outputs": [],
   "source": [
    "# Q4. Write a python program using reduce function to compute the product of a list containing numbers from 1 to 25."
   ]
  },
  {
   "cell_type": "code",
   "execution_count": 34,
   "id": "9491a3bf-0fd8-41a2-88e3-70055511553a",
   "metadata": {},
   "outputs": [],
   "source": [
    "from functools import reduce"
   ]
  },
  {
   "cell_type": "code",
   "execution_count": 44,
   "id": "3a785806-c98e-4582-8d9a-d0178aea06f0",
   "metadata": {
    "tags": []
   },
   "outputs": [
    {
     "name": "stdout",
     "output_type": "stream",
     "text": [
      "current list:  [1, 2, 3, 4, 5, 6, 7, 8, 9, 10, 11, 12, 13, 14, 15, 16, 17, 18, 19, 20, 21, 22, 23, 24, 25]\n",
      "product of the list: ---> 15511210043330985984000000\n"
     ]
    }
   ],
   "source": [
    "num_list=list(range(1,26))\n",
    "print(\"current list: \",num_list)\n",
    "num_product= reduce(lambda x,y : x*y,num_list)\n",
    "print(\"product of the list: --->\",num_product)"
   ]
  },
  {
   "cell_type": "code",
   "execution_count": null,
   "id": "1accba4c-cbbb-4814-8bd1-c12e04856060",
   "metadata": {
    "slideshow": {
     "slide_type": "fragment"
    },
    "tags": [
     "super"
    ]
   },
   "outputs": [],
   "source": [
    "# Q5. Write a python program to filter the numbers in a given list that are divisible by 2 and 3 using the filter function.\n",
    "# [2, 3, 6, 9, 27, 60, 90, 120, 55, 46]"
   ]
  },
  {
   "cell_type": "code",
   "execution_count": null,
   "id": "fc1e25cd-028b-4cdf-a665-8274cab02fec",
   "metadata": {},
   "outputs": [],
   "source": [
    "# using lambda function"
   ]
  },
  {
   "cell_type": "code",
   "execution_count": 87,
   "id": "1359f978-aa77-45fc-815f-a5f861c39544",
   "metadata": {},
   "outputs": [
    {
     "name": "stdout",
     "output_type": "stream",
     "text": [
      "filtering the numbers that are divisible by 2 and/or 3 :\n",
      "list of numbers:  [2, 3, 6, 9, 27, 60, 90, 120, 55, 46]\n",
      "list of number divisible by 2 and 3:-->  [6, 60, 90, 120]\n",
      "list of number divisible by 2 or 3:-->  [2, 3, 6, 9, 27, 60, 90, 120, 46]\n"
     ]
    }
   ],
   "source": [
    "print(\"filtering the numbers that are divisible by 2 and/or 3 :\")\n",
    "num=[2, 3, 6, 9, 27, 60, 90, 120, 55, 46]\n",
    "print(\"list of numbers: \",num)\n",
    "result=list(filter(lambda x : x%2==0 and x%3==0,num))\n",
    "print(\"list of number divisible by 2 and 3:--> \",result)\n",
    "result2=list(filter(lambda x : x%2==0 or x%3==0,num))\n",
    "print(\"list of number divisible by 2 or 3:--> \",result2)"
   ]
  },
  {
   "cell_type": "code",
   "execution_count": 88,
   "id": "f7005f33-466f-4caf-8fab-4444ebf9b912",
   "metadata": {},
   "outputs": [],
   "source": [
    "# without using lambda function"
   ]
  },
  {
   "cell_type": "code",
   "execution_count": 89,
   "id": "2ba53252-f501-40b0-ab60-1fef646b7bda",
   "metadata": {},
   "outputs": [
    {
     "name": "stdout",
     "output_type": "stream",
     "text": [
      "filtering the numbers that are divisible by 2 and/or 3 :\n",
      "list of numbers:  [2, 3, 6, 9, 27, 60, 90, 120, 55, 46]\n",
      "list of number divisible by 2 and 3:-->  [6, 60, 90, 120]\n",
      "list of number divisible by 2 or 3:-->  [2, 3, 6, 9, 27, 60, 90, 120, 46]\n"
     ]
    }
   ],
   "source": [
    "print(\"filtering the numbers that are divisible by 2 and/or 3 :\")\n",
    "num=[2, 3, 6, 9, 27, 60, 90, 120, 55, 46]\n",
    "print(\"list of numbers: \",num)\n",
    "def div_and(x):\n",
    "    '''divisibility with 2 and 3'''\n",
    "    if x%2==0 and x%3==0:\n",
    "        return True\n",
    "    else:\n",
    "        return False\n",
    "result=list(filter(div_and,num))\n",
    "print(\"list of number divisible by 2 and 3:--> \",result)\n",
    "def div_or(x):\n",
    "    '''divisibility with 2 or 3'''\n",
    "    if x%2==0 or x%3==0:\n",
    "        return True\n",
    "    else:\n",
    "        return False\n",
    "result2=list(filter(div_or,num))\n",
    "print(\"list of number divisible by 2 or 3:--> \",result2)"
   ]
  },
  {
   "cell_type": "code",
   "execution_count": 90,
   "id": "ce16c4e3-4505-45bd-a24e-1f1493d1affb",
   "metadata": {},
   "outputs": [],
   "source": [
    "#  Q6. Write a python program to find palindromes in the given list of strings using lambda and filter function.\n",
    "# ['python', 'php', 'aba', 'radar', 'level']"
   ]
  },
  {
   "cell_type": "code",
   "execution_count": 92,
   "id": "ae2aaba3-31b4-44dd-bc89-7a2d2257b354",
   "metadata": {},
   "outputs": [
    {
     "name": "stdout",
     "output_type": "stream",
     "text": [
      "filtering of palindromes from the given list: \n",
      "the given list:  ['python', 'php', 'aba', 'radar', 'level']\n",
      "palindromes :--> ['php', 'aba', 'radar', 'level']\n"
     ]
    }
   ],
   "source": [
    "print(\"filtering of palindromes from the given list: \")\n",
    "strings=['python', 'php', 'aba', 'radar', 'level']\n",
    "print(\"the given list: \",strings)\n",
    "pal=list(filter(lambda x : x==x[::-1],strings))\n",
    "print(\"palindromes :-->\",pal)"
   ]
  },
  {
   "cell_type": "code",
   "execution_count": null,
   "id": "d3bf99a5-3de4-4f15-ac34-ad9b2b26424e",
   "metadata": {},
   "outputs": [],
   "source": []
  }
 ],
 "metadata": {
  "kernelspec": {
   "display_name": "Python 3 (ipykernel)",
   "language": "python",
   "name": "python3"
  },
  "language_info": {
   "codemirror_mode": {
    "name": "ipython",
    "version": 3
   },
   "file_extension": ".py",
   "mimetype": "text/x-python",
   "name": "python",
   "nbconvert_exporter": "python",
   "pygments_lexer": "ipython3",
   "version": "3.10.6"
  },
  "toc-autonumbering": true,
  "toc-showcode": true,
  "toc-showtags": true
 },
 "nbformat": 4,
 "nbformat_minor": 5
}
